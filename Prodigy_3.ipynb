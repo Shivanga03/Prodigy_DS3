{
 "cells": [
  {
   "cell_type": "markdown",
   "id": "9092b180",
   "metadata": {},
   "source": [
    "Build a decision tree classifier to predict whether a customer will purchase a product or service based on their demographic and behavioral data. Use a dataset such as the Bank Marketing dataset from the UCI Machine Learning Repository."
   ]
  },
  {
   "cell_type": "code",
   "execution_count": 17,
   "id": "dfc71bb9",
   "metadata": {},
   "outputs": [
    {
     "name": "stdout",
     "output_type": "stream",
     "text": [
      "   customer_id  credit_score country  gender  age  tenure    balance  \\\n",
      "0     15634602           619  France  Female   42       2       0.00   \n",
      "1     15647311           608   Spain  Female   41       1   83807.86   \n",
      "2     15619304           502  France  Female   42       8  159660.80   \n",
      "3     15701354           699  France  Female   39       1       0.00   \n",
      "4     15737888           850   Spain  Female   43       2  125510.82   \n",
      "\n",
      "   products_number  credit_card  active_member  estimated_salary  churn  \n",
      "0                1            1              1         101348.88      1  \n",
      "1                1            0              1         112542.58      0  \n",
      "2                3            1              0         113931.57      1  \n",
      "3                2            0              0          93826.63      0  \n",
      "4                1            1              1          79084.10      0  \n"
     ]
    }
   ],
   "source": [
    "import pandas as pd\n",
    "\n",
    "# Load the dataset\n",
    "df = pd.read_csv(\"Bank Customer Churn Prediction.csv\")\n",
    "\n",
    "# Display the first few rows of the dataset\n",
    "print(df.head())"
   ]
  },
  {
   "cell_type": "markdown",
   "id": "177b659d",
   "metadata": {},
   "source": [
    "Data Preprocessing"
   ]
  },
  {
   "cell_type": "code",
   "execution_count": 18,
   "id": "7c9c2826",
   "metadata": {},
   "outputs": [
    {
     "name": "stdout",
     "output_type": "stream",
     "text": [
      "Index(['customer_id', 'credit_score', 'country', 'gender', 'age', 'tenure',\n",
      "       'balance', 'products_number', 'credit_card', 'active_member',\n",
      "       'estimated_salary', 'churn'],\n",
      "      dtype='object')\n",
      "customer_id         0\n",
      "credit_score        0\n",
      "country             0\n",
      "gender              0\n",
      "age                 0\n",
      "tenure              0\n",
      "balance             0\n",
      "products_number     0\n",
      "credit_card         0\n",
      "active_member       0\n",
      "estimated_salary    0\n",
      "churn               0\n",
      "dtype: int64\n"
     ]
    }
   ],
   "source": [
    "from sklearn.model_selection import train_test_split\n",
    "from sklearn.preprocessing import LabelEncoder\n",
    "from sklearn.tree import DecisionTreeClassifier\n",
    "from sklearn.metrics import accuracy_score, confusion_matrix, classification_report\n",
    "import matplotlib.pyplot as plt\n",
    "import seaborn as sns\n",
    "\n",
    "\n",
    "# Display the column names to identify the target variable\n",
    "print(df.columns)\n",
    "\n",
    "# Set the correct target column based on inspection\n",
    "target_column = 'churn'  # Replace with the correct target column if different\n",
    "\n",
    "# Check for missing values\n",
    "print(df.isnull().sum())\n",
    "\n",
    "# Handle missing values (example: fill missing values with the mean or drop them)\n",
    "# df = df.fillna(df.mean())  # Example of filling missing values\n"
   ]
  },
  {
   "cell_type": "markdown",
   "id": "4b47ba92",
   "metadata": {},
   "source": [
    "Training the Model"
   ]
  },
  {
   "cell_type": "code",
   "execution_count": 19,
   "id": "849932d9",
   "metadata": {},
   "outputs": [],
   "source": [
    "\n",
    "# Encode categorical variables\n",
    "label_encoder = LabelEncoder()\n",
    "for column in df.select_dtypes(include=['object']).columns:\n",
    "    df[column] = label_encoder.fit_transform(df[column])\n",
    "\n",
    "# Split the data into features and target variable\n",
    "X = df.drop(columns=[target_column])\n",
    "y = df[target_column]\n",
    "\n",
    "# Split the data into training and test sets\n",
    "X_train, X_test, y_train, y_test = train_test_split(X, y, test_size=0.2, random_state=42)\n",
    "\n",
    "# Initialize the model\n",
    "dt_classifier = DecisionTreeClassifier(random_state=42)\n",
    "\n",
    "# Train the model\n",
    "dt_classifier.fit(X_train, y_train)\n",
    "\n",
    "# Predict on the test set\n",
    "y_pred = dt_classifier.predict(X_test)\n"
   ]
  },
  {
   "cell_type": "markdown",
   "id": "759aa9be",
   "metadata": {},
   "source": [
    "data classifier"
   ]
  },
  {
   "cell_type": "code",
   "execution_count": 20,
   "id": "19badeb4",
   "metadata": {},
   "outputs": [
    {
     "name": "stdout",
     "output_type": "stream",
     "text": [
      "Accuracy: 0.789\n",
      "Confusion Matrix:\n",
      "[[1370  237]\n",
      " [ 185  208]]\n",
      "Classification Report:\n",
      "              precision    recall  f1-score   support\n",
      "\n",
      "           0       0.88      0.85      0.87      1607\n",
      "           1       0.47      0.53      0.50       393\n",
      "\n",
      "    accuracy                           0.79      2000\n",
      "   macro avg       0.67      0.69      0.68      2000\n",
      "weighted avg       0.80      0.79      0.79      2000\n",
      "\n"
     ]
    }
   ],
   "source": [
    "y_pred = dt_classifier.predict(X_test)\n",
    "\n",
    "# Evaluate the model\n",
    "accuracy = accuracy_score(y_test, y_pred)\n",
    "conf_matrix = confusion_matrix(y_test, y_pred)\n",
    "class_report = classification_report(y_test, y_pred)\n",
    "\n",
    "print(f\"Accuracy: {accuracy}\")\n",
    "print(\"Confusion Matrix:\")\n",
    "print(conf_matrix)\n",
    "print(\"Classification Report:\")\n",
    "print(class_report)\n"
   ]
  },
  {
   "cell_type": "markdown",
   "id": "10bb1cbe",
   "metadata": {},
   "source": [
    "Visualition"
   ]
  },
  {
   "cell_type": "code",
   "execution_count": 21,
   "id": "572b75d0",
   "metadata": {},
   "outputs": [
    {
     "data": {
      "image/png": "[encoded data removed]",
      "text/plain": [
       "<Figure size 720x432 with 1 Axes>"
      ]
     },
     "metadata": {
      "needs_background": "light"
     },
     "output_type": "display_data"
    }
   ],
   "source": [
    "# Age Distribution\n",
    "if 'Age' in df.columns:\n",
    "    plt.figure(figsize=(10, 6))\n",
    "    sns.histplot(df['Age'], kde=True)\n",
    "    plt.title('Age Distribution')\n",
    "    plt.xlabel('Age')\n",
    "    plt.ylabel('Frequency')\n",
    "    plt.show()\n",
    "\n",
    "# Count plot for the target variable\n",
    "plt.figure(figsize=(10, 6))\n",
    "sns.countplot(x=target_column, data=df)\n",
    "plt.title('Customer Churn Count')\n",
    "plt.xlabel('Churn')\n",
    "plt.ylabel('Count')\n",
    "plt.show()\n",
    "\n",
    "# Count plot for 'Geography'\n",
    "if 'Geography' in df.columns:\n",
    "    plt.figure(figsize=(10, 6))\n",
    "    sns.countplot(y='Geography', data=df)\n",
    "    plt.title('Geography Distribution')\n",
    "    plt.xlabel('Count')\n",
    "    plt.ylabel('Geography')\n",
    "    plt.show()\n",
    "\n",
    "# Churn rate by geography\n",
    "if 'Geography' in df.columns:\n",
    "    plt.figure(figsize=(10, 6))\n",
    "    sns.barplot(x=target_column, y='Geography', data=df)\n",
    "    plt.title('Churn Rate by Geography')\n",
    "    plt.xlabel('Churn')\n",
    "    plt.ylabel('Geography')\n",
    "    plt.show()\n",
    "\n",
    "# Age distribution by churn\n",
    "if 'Age' in df.columns:\n",
    "    plt.figure(figsize=(10, 6))\n",
    "    sns.histplot(data=df, x='Age', hue=target_column, multiple='stack')\n",
    "    plt.title('Age Distribution by Churn')\n",
    "    plt.xlabel('Age')\n",
    "    plt.ylabel('Frequency')\n",
    "    plt.show()"
   ]
  },
  {
   "cell_type": "code",
   "execution_count": null,
   "id": "df46c60a",
   "metadata": {},
   "outputs": [],
   "source": []
  }
 ],
 "metadata": {
  "kernelspec": {
   "display_name": "Python 3 (ipykernel)",
   "language": "python",
   "name": "python3"
  },
  "language_info": {
   "codemirror_mode": {
    "name": "ipython",
    "version": 3
   },
   "file_extension": ".py",
   "mimetype": "text/x-python",
   "name": "python",
   "nbconvert_exporter": "python",
   "pygments_lexer": "ipython3",
   "version": "3.9.12"
  }
 },
 "nbformat": 4,
 "nbformat_minor": 5
}
